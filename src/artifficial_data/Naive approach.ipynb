{
 "cells": [
  {
   "cell_type": "code",
   "execution_count": 5,
   "metadata": {},
   "outputs": [],
   "source": [
    "import pickle\n",
    "import numpy as np\n",
    "\n",
    "def openDataSet(data_folder):\n",
    "    with open(f'../../data/artificial_data/{data_folder}/bought_products.p', 'rb') as filehandle:\n",
    "        products = pickle.load(filehandle)\n",
    "\n",
    "    with open(f'../../data/artificial_data/{data_folder}/dominant_cusine_for_user.p', 'rb') as filehandle:\n",
    "        cuisine = pickle.load(filehandle)\n",
    "\n",
    "    with open(f'../../data/artificial_data/{data_folder}/recipes_of_cuisine.p', 'rb') as filehandle:\n",
    "        recipes = pickle.load(filehandle)\n",
    "\n",
    "    return products, cuisine, recipes"
   ]
  },
  {
   "cell_type": "code",
   "execution_count": 6,
   "metadata": {},
   "outputs": [],
   "source": [
    "n_products = 1000\n",
    "n_cusines = 20\n",
    "n_users = 1000"
   ]
  },
  {
   "cell_type": "code",
   "execution_count": 7,
   "metadata": {},
   "outputs": [],
   "source": [
    "def JaccardSim(customer, recipe):\n",
    "    return len(set(customer) & set(recipe)) / len(recipe)\n",
    "\n",
    "\n",
    "def accuracy_of_naive_method():\n",
    "    perfect_matches = 0\n",
    "    approximate_matches = 0\n",
    "\n",
    "\n",
    "    for user in range(n_users):\n",
    "        true_dominant_cusine = dominant_cusine_for_user[user]\n",
    "\n",
    "        user_products = bought_products[user]\n",
    "        cuisine_similarities = np.zeros(n_cusines)\n",
    "\n",
    "        for cuisine in range(n_cusines):\n",
    "            recipes = recipes_of_cuisine[cuisine]\n",
    "\n",
    "            for recipe in recipes:\n",
    "                cuisine_similarities[cuisine] += JaccardSim(user_products, recipe)\n",
    "\n",
    "            cuisine_similarities[cuisine] /= len(recipes)\n",
    "\n",
    "        # '-', because we want to sort in descending order\n",
    "        top_cuisines = np.argsort(-cuisine_similarities)[:3]\n",
    "\n",
    "        if top_cuisines[0] == true_dominant_cusine:\n",
    "            perfect_matches += 1\n",
    "\n",
    "        if true_dominant_cusine in top_cuisines:\n",
    "            approximate_matches += 1\n",
    "\n",
    "\n",
    "    perfect_match = perfect_matches/n_users\n",
    "    approximate_match  = approximate_matches/n_users\n",
    "\n",
    "    return (perfect_match, approximate_match)"
   ]
  },
  {
   "cell_type": "code",
   "execution_count": 8,
   "metadata": {},
   "outputs": [
    {
     "name": "stdout",
     "output_type": "stream",
     "text": [
      "3 recipes from preferred cuisine\n",
      "(0.954, 0.998)\n",
      "3 recipes from preferred cuisine not full\n",
      "(0.883, 0.986)\n",
      "2 from preferred cuisine 1 from other\n",
      "(0.641, 0.985)\n",
      "3 from preferred cuisine 2 from other\n",
      "(0.558, 0.995)\n",
      "2 from preferred cuisine 1 from other not full\n",
      "(0.591, 0.942)\n",
      "3 from preferred cuisine 2 from other not full\n",
      "(0.492, 0.968)\n",
      "3 from preferred cuisine 6 from others not full\n",
      "(0.317, 0.711)\n"
     ]
    }
   ],
   "source": [
    "data_folders = [\"3 recipes from preferred cuisine\", \\\n",
    "                \"3 recipes from preferred cuisine not full\", \\\n",
    "                \"2 from preferred cuisine 1 from other\", \"3 from preferred cuisine 2 from other\", \\\n",
    "                \"2 from preferred cuisine 1 from other not full\", \\\n",
    "                \"3 from preferred cuisine 2 from other not full\", \\\n",
    "                \"3 from preferred cuisine 6 from others not full\"]\n",
    "\n",
    "\n",
    "for folder in data_folders:\n",
    "    print(folder)\n",
    "    bought_products, dominant_cusine_for_user, recipes_of_cuisine = openDataSet(folder)\n",
    "    \n",
    "    print(accuracy_of_naive_method())"
   ]
  },
  {
   "cell_type": "code",
   "execution_count": null,
   "metadata": {},
   "outputs": [],
   "source": []
  },
  {
   "cell_type": "code",
   "execution_count": null,
   "metadata": {},
   "outputs": [],
   "source": []
  },
  {
   "cell_type": "code",
   "execution_count": null,
   "metadata": {},
   "outputs": [],
   "source": []
  }
 ],
 "metadata": {
  "kernelspec": {
   "display_name": "Python 3",
   "language": "python",
   "name": "python3"
  },
  "language_info": {
   "codemirror_mode": {
    "name": "ipython",
    "version": 3
   },
   "file_extension": ".py",
   "mimetype": "text/x-python",
   "name": "python",
   "nbconvert_exporter": "python",
   "pygments_lexer": "ipython3",
   "version": "3.7.3"
  }
 },
 "nbformat": 4,
 "nbformat_minor": 2
}
