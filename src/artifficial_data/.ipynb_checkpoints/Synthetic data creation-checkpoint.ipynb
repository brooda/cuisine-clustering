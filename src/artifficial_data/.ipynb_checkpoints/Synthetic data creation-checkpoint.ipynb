{
 "cells": [
  {
   "cell_type": "markdown",
   "metadata": {},
   "source": [
    "# Synthetic data "
   ]
  },
  {
   "cell_type": "code",
   "execution_count": 18,
   "metadata": {},
   "outputs": [],
   "source": [
    "import numpy as np\n",
    "np.set_printoptions(suppress=True)\n",
    "import matplotlib.pyplot as plt\n",
    "import pickle\n",
    "import os"
   ]
  },
  {
   "cell_type": "code",
   "execution_count": 19,
   "metadata": {},
   "outputs": [],
   "source": [
    "n_products = 1000\n",
    "n_cusines = 20\n",
    "products = list(range(n_products))\n",
    "cuisines = list(range(n_cusines))"
   ]
  },
  {
   "cell_type": "code",
   "execution_count": 20,
   "metadata": {},
   "outputs": [],
   "source": [
    "# each product has some overall frequency, \n",
    "# there are products globally infrequent and globally frequent\n",
    "# some relative measure of frequency is proposed, e.g. frequent items are those with measure > 5\n",
    "products_frequency = np.random.normal(size = n_products)\n",
    "products_frequency = np.maximum(0, (products_frequency + 3.5))\n",
    "# products_frequency\n",
    "\n",
    "# Each cusine has from 5 to 15 frequent products used in recipes\n",
    "n_frequent_products_of_cusines = np.random.randint(2, 10, n_cusines)\n",
    "\n",
    "# Those products are:\n",
    "frequent_products_of_cuisines = {}\n",
    "\n",
    "for cuisine in range(n_cusines):\n",
    "    frequent_products_of_cuisines[cuisine] = np.random.randint(0, n_products, n_frequent_products_of_cusines[cuisine])"
   ]
  },
  {
   "cell_type": "code",
   "execution_count": 21,
   "metadata": {},
   "outputs": [],
   "source": [
    "# frequency of products in cusines will be adjusted in such way, that frequent products from a cusine will have 20% of overall frequency for cuisine\n",
    "\n",
    "frequency_of_products_in_cuisines = {}\n",
    "\n",
    "for cuisine in cuisines:\n",
    "    frequent = frequent_products_of_cuisines[cuisine]\n",
    "    non_frequent = list(set(products) - set(frequent))\n",
    "    \n",
    "    non_frequent_sum_frequency = sum(products_frequency[non_frequent])\n",
    "    sum_freq_of_freq_products = 0.2 * non_frequent_sum_frequency\n",
    "    \n",
    "    frequency_of_products_in_cuisines[cuisine] = products_frequency\n",
    "    \n",
    "    mean_of_freq = sum_freq_of_freq_products / len(frequent)\n",
    "    freqent_items_frequency = mean_of_freq + np.random.uniform(-mean_of_freq/5, mean_of_freq/5, len(frequent))\n",
    "    \n",
    "    freqent_items_frequency[0] *=2\n",
    "    freqent_items_frequency[1] *=1.5\n",
    "    \n",
    "    frequency_of_products_in_cuisines[cuisine][frequent] = freqent_items_frequency\n",
    "    frequency_of_products_in_cuisines[cuisine] = frequency_of_products_in_cuisines[cuisine].astype(int)\n",
    "    "
   ]
  },
  {
   "cell_type": "code",
   "execution_count": 22,
   "metadata": {},
   "outputs": [],
   "source": [
    "# Each cusine will have some number of recipes, from 10 to 50\n",
    "number_of_recipes_per_cuisine = np.random.randint(10, 50, n_cusines)\n",
    "# number_of_recipes_per_cuisine"
   ]
  },
  {
   "cell_type": "code",
   "execution_count": 23,
   "metadata": {},
   "outputs": [],
   "source": [
    "# dictionary, key: cuisine, values: 2-dimensional array; each inner array is a list of products in recipe\n",
    "recipes_of_cuisine = {}\n",
    "\n",
    "for cuisine in range(n_cusines):\n",
    "    recipes = []\n",
    "    \n",
    "    helper = []\n",
    "    frequency_of_products = frequency_of_products_in_cuisines[cuisine]\n",
    "    \n",
    "    \n",
    "    for i, freq in enumerate(frequency_of_products):\n",
    "        for j in range(int(freq)):\n",
    "            helper.append(i)\n",
    "    \n",
    "    #print(helper)\n",
    "    \n",
    "    for recipe_number in range(number_of_recipes_per_cuisine[cuisine]):\n",
    "        len_of_recipe = np.random.randint(5, 15)\n",
    "        \n",
    "        recipes.append(np.unique(np.random.choice(helper, len_of_recipe)))\n",
    "    \n",
    "    recipes_of_cuisine[cuisine] = recipes\n"
   ]
  },
  {
   "cell_type": "markdown",
   "metadata": {},
   "source": [
    "# Creating user purchases\n",
    "### Each user has some dominating cuisine"
   ]
  },
  {
   "cell_type": "code",
   "execution_count": 24,
   "metadata": {
    "scrolled": true
   },
   "outputs": [],
   "source": [
    "# Each user will have dominant cuisine\n",
    "# Each user will prepare 3 recipes from his dominant cusine\n",
    "n_users = 1000\n",
    "users = list(range(n_users))\n",
    "dominant_cusine_for_user = np.random.randint(0, n_cusines, n_users)"
   ]
  },
  {
   "cell_type": "markdown",
   "metadata": {},
   "source": [
    "## Each customer: 3 full recipes "
   ]
  },
  {
   "cell_type": "code",
   "execution_count": 30,
   "metadata": {},
   "outputs": [],
   "source": [
    "bought_products = {}\n",
    "\n",
    "for user in users:\n",
    "    available_recipes = recipes_of_cuisine[dominant_cusine_for_user[user]]\n",
    "    \n",
    "    chosen_recipes = np.random.choice(len(available_recipes), 3)\n",
    "    \n",
    "    rec = []\n",
    "    \n",
    "    for el in chosen_recipes:\n",
    "        rec.append(available_recipes[el])\n",
    "\n",
    "    needed_products = np.concatenate(rec)\n",
    "    \n",
    "    bought_products[user] = np.unique(needed_products)\n",
    "\n",
    "data_folder = \"../../data/artificial_data/3 recipes from preferred cuisine\"\n",
    "os.mkdir(data_folder)\n",
    "\n",
    "with open(f'{data_folder}/bought_products.p', 'wb') as fp:\n",
    "    pickle.dump(bought_products, fp, protocol=pickle.HIGHEST_PROTOCOL)\n",
    "    \n",
    "with open(f'{data_folder}/dominant_cusine_for_user.p', 'wb') as fp:\n",
    "    pickle.dump(dominant_cusine_for_user, fp, protocol=pickle.HIGHEST_PROTOCOL)\n",
    "\n",
    "with open(f'{data_folder}/recipes_of_cuisine.p', 'wb') as fp:\n",
    "    pickle.dump(recipes_of_cuisine, fp, protocol=pickle.HIGHEST_PROTOCOL)"
   ]
  },
  {
   "cell_type": "markdown",
   "metadata": {},
   "source": [
    "## Each customer: 3 not full recipes  "
   ]
  },
  {
   "cell_type": "code",
   "execution_count": 31,
   "metadata": {},
   "outputs": [],
   "source": [
    "bought_products = {}\n",
    "\n",
    "for user in users:\n",
    "    available_recipes = recipes_of_cuisine[dominant_cusine_for_user[user]]\n",
    "    \n",
    "    chosen_recipes = np.random.choice(len(available_recipes), 3)\n",
    "    \n",
    "    rec = []\n",
    "    \n",
    "    for el in chosen_recipes:\n",
    "        recipe = available_recipes[el]\n",
    "        subset_of_recipe = recipe[: int(0.7 * len(recipe))]\n",
    "        rec.append(subset_of_recipe)\n",
    "\n",
    "    needed_products = np.concatenate(rec)\n",
    "    \n",
    "    bought_products[user] = np.unique(needed_products)\n",
    "    \n",
    "data_folder = \"../../data/artificial_data/3 recipes from preferred cuisine not full\"\n",
    "os.mkdir(data_folder)\n",
    "\n",
    "with open(f'{data_folder}/bought_products.p', 'wb') as fp:\n",
    "    pickle.dump(bought_products, fp, protocol=pickle.HIGHEST_PROTOCOL)\n",
    "    \n",
    "with open(f'{data_folder}/dominant_cusine_for_user.p', 'wb') as fp:\n",
    "    pickle.dump(dominant_cusine_for_user, fp, protocol=pickle.HIGHEST_PROTOCOL)\n",
    "\n",
    "with open(f'{data_folder}/recipes_of_cuisine.p', 'wb') as fp:\n",
    "    pickle.dump(recipes_of_cuisine, fp, protocol=pickle.HIGHEST_PROTOCOL)"
   ]
  },
  {
   "cell_type": "markdown",
   "metadata": {},
   "source": [
    "## Each customer: 2 recipes from his cuisine and 1 from other  "
   ]
  },
  {
   "cell_type": "code",
   "execution_count": 32,
   "metadata": {},
   "outputs": [],
   "source": [
    "bought_products = {}\n",
    "\n",
    "for user in users:\n",
    "    recipes_from_chosen_cuisine = recipes_of_cuisine[dominant_cusine_for_user[user]]\n",
    "    recipes_from_other_cuisine = recipes_of_cuisine[(dominant_cusine_for_user[user] + 1) % n_cusines]\n",
    "    \n",
    "    \n",
    "    chosen_recipes_from_chosen_cuisine = np.random.choice(len(recipes_from_chosen_cuisine), 2)\n",
    "    chosen_recipes_from_other_cuisine = np.random.choice(len(recipes_from_other_cuisine), 1)\n",
    "\n",
    "    rec = []\n",
    "    \n",
    "    for num in chosen_recipes_from_chosen_cuisine:\n",
    "        recipe = recipes_from_chosen_cuisine[num]\n",
    "        subset_of_recipe = recipe\n",
    "        #subset_of_recipe = recipe[: int(0.7 * len(recipe))]\n",
    "        rec.append(subset_of_recipe)\n",
    "\n",
    "    for num in chosen_recipes_from_other_cuisine:\n",
    "        recipe = recipes_from_other_cuisine[num]\n",
    "        subset_of_recipe = recipe\n",
    "        #subset_of_recipe = recipe[: int(0.7 * len(recipe))]\n",
    "        rec.append(subset_of_recipe)\n",
    "\n",
    "        \n",
    "    needed_products = np.concatenate(rec)\n",
    "    \n",
    "    bought_products[user] = np.unique(needed_products)\n",
    "    \n",
    "data_folder = \"../../data/artificial_data/2 from preferred cuisine 1 from other\"\n",
    "os.mkdir(data_folder)\n",
    "\n",
    "with open(f'{data_folder}/bought_products.p', 'wb') as fp:\n",
    "    pickle.dump(bought_products, fp, protocol=pickle.HIGHEST_PROTOCOL)\n",
    "    \n",
    "with open(f'{data_folder}/dominant_cusine_for_user.p', 'wb') as fp:\n",
    "    pickle.dump(dominant_cusine_for_user, fp, protocol=pickle.HIGHEST_PROTOCOL)\n",
    "\n",
    "with open(f'{data_folder}/recipes_of_cuisine.p', 'wb') as fp:\n",
    "    pickle.dump(recipes_of_cuisine, fp, protocol=pickle.HIGHEST_PROTOCOL)"
   ]
  },
  {
   "cell_type": "markdown",
   "metadata": {},
   "source": [
    "## Each customer: 3 recipes from his cuisine and 2 from other  "
   ]
  },
  {
   "cell_type": "code",
   "execution_count": 33,
   "metadata": {},
   "outputs": [],
   "source": [
    "bought_products = {}\n",
    "\n",
    "for user in users:\n",
    "    recipes_from_chosen_cuisine = recipes_of_cuisine[dominant_cusine_for_user[user]]\n",
    "    recipes_from_other_cuisine = recipes_of_cuisine[(dominant_cusine_for_user[user] + 1) % n_cusines]\n",
    "    \n",
    "    \n",
    "    chosen_recipes_from_chosen_cuisine = np.random.choice(len(recipes_from_chosen_cuisine), 3)\n",
    "    chosen_recipes_from_other_cuisine = np.random.choice(len(recipes_from_other_cuisine), 2)\n",
    "\n",
    "    rec = []\n",
    "    \n",
    "    for num in chosen_recipes_from_chosen_cuisine:\n",
    "        recipe = recipes_from_chosen_cuisine[num]\n",
    "        subset_of_recipe = recipe\n",
    "        #subset_of_recipe = recipe[: int(0.7 * len(recipe))]\n",
    "        rec.append(subset_of_recipe)\n",
    "\n",
    "    for num in chosen_recipes_from_other_cuisine:\n",
    "        recipe = recipes_from_other_cuisine[num]\n",
    "        subset_of_recipe = recipe\n",
    "        #subset_of_recipe = recipe[: int(0.7 * len(recipe))]\n",
    "        rec.append(subset_of_recipe)\n",
    "\n",
    "        \n",
    "    needed_products = np.concatenate(rec)\n",
    "    \n",
    "    bought_products[user] = np.unique(needed_products)\n",
    "    \n",
    "data_folder = \"../../data/artificial_data/3 from preferred cuisine 2 from other\"\n",
    "os.mkdir(data_folder)\n",
    "\n",
    "with open(f'{data_folder}/bought_products.p', 'wb') as fp:\n",
    "    pickle.dump(bought_products, fp, protocol=pickle.HIGHEST_PROTOCOL)\n",
    "    \n",
    "with open(f'{data_folder}/dominant_cusine_for_user.p', 'wb') as fp:\n",
    "    pickle.dump(dominant_cusine_for_user, fp, protocol=pickle.HIGHEST_PROTOCOL)\n",
    "\n",
    "with open(f'{data_folder}/recipes_of_cuisine.p', 'wb') as fp:\n",
    "    pickle.dump(recipes_of_cuisine, fp, protocol=pickle.HIGHEST_PROTOCOL)"
   ]
  },
  {
   "cell_type": "markdown",
   "metadata": {},
   "source": [
    "## Each customer: 2 recipes from his cuisine and 1 from other - not full"
   ]
  },
  {
   "cell_type": "code",
   "execution_count": 34,
   "metadata": {},
   "outputs": [],
   "source": [
    "bought_products = {}\n",
    "\n",
    "for user in users:\n",
    "    recipes_from_chosen_cuisine = recipes_of_cuisine[dominant_cusine_for_user[user]]\n",
    "    recipes_from_other_cuisine = recipes_of_cuisine[(dominant_cusine_for_user[user] + 1) % n_cusines]\n",
    "    \n",
    "    \n",
    "    chosen_recipes_from_chosen_cuisine = np.random.choice(len(recipes_from_chosen_cuisine), 2)\n",
    "    chosen_recipes_from_other_cuisine = np.random.choice(len(recipes_from_other_cuisine), 1)\n",
    "\n",
    "    rec = []\n",
    "    \n",
    "    for num in chosen_recipes_from_chosen_cuisine:\n",
    "        recipe = recipes_from_chosen_cuisine[num]\n",
    "        subset_of_recipe = recipe[: int(0.7 * len(recipe))]\n",
    "        rec.append(subset_of_recipe)\n",
    "\n",
    "    for num in chosen_recipes_from_other_cuisine:\n",
    "        recipe = recipes_from_other_cuisine[num]\n",
    "        subset_of_recipe = recipe[: int(0.7 * len(recipe))]\n",
    "        rec.append(subset_of_recipe)\n",
    "\n",
    "        \n",
    "    needed_products = np.concatenate(rec)\n",
    "    \n",
    "    bought_products[user] = np.unique(needed_products)\n",
    "    \n",
    "data_folder = \"../../data/artificial_data/2 from preferred cuisine 1 from other not full\"\n",
    "os.mkdir(data_folder)\n",
    "\n",
    "with open(f'{data_folder}/bought_products.p', 'wb') as fp:\n",
    "    pickle.dump(bought_products, fp, protocol=pickle.HIGHEST_PROTOCOL)\n",
    "    \n",
    "with open(f'{data_folder}/dominant_cusine_for_user.p', 'wb') as fp:\n",
    "    pickle.dump(dominant_cusine_for_user, fp, protocol=pickle.HIGHEST_PROTOCOL)\n",
    "\n",
    "with open(f'{data_folder}/recipes_of_cuisine.p', 'wb') as fp:\n",
    "    pickle.dump(recipes_of_cuisine, fp, protocol=pickle.HIGHEST_PROTOCOL)"
   ]
  },
  {
   "cell_type": "markdown",
   "metadata": {},
   "source": [
    "## Each customer: 3 recipes from his cuisine and 2 from other - not full"
   ]
  },
  {
   "cell_type": "code",
   "execution_count": 35,
   "metadata": {},
   "outputs": [],
   "source": [
    "bought_products = {}\n",
    "\n",
    "for user in users:\n",
    "    recipes_from_chosen_cuisine = recipes_of_cuisine[dominant_cusine_for_user[user]]\n",
    "    recipes_from_other_cuisine = recipes_of_cuisine[(dominant_cusine_for_user[user] + 1) % n_cusines]\n",
    "    \n",
    "    \n",
    "    chosen_recipes_from_chosen_cuisine = np.random.choice(len(recipes_from_chosen_cuisine), 3)\n",
    "    chosen_recipes_from_other_cuisine = np.random.choice(len(recipes_from_other_cuisine), 2)\n",
    "\n",
    "    rec = []\n",
    "    \n",
    "    for num in chosen_recipes_from_chosen_cuisine:\n",
    "        recipe = recipes_from_chosen_cuisine[num]\n",
    "        subset_of_recipe = recipe[: int(0.7 * len(recipe))]\n",
    "        rec.append(subset_of_recipe)\n",
    "\n",
    "    for num in chosen_recipes_from_other_cuisine:\n",
    "        recipe = recipes_from_other_cuisine[num]\n",
    "        subset_of_recipe = recipe[: int(0.7 * len(recipe))]\n",
    "        rec.append(subset_of_recipe)\n",
    "\n",
    "        \n",
    "    needed_products = np.concatenate(rec)\n",
    "    \n",
    "    bought_products[user] = np.unique(needed_products)\n",
    "\n",
    "data_folder = \"../../data/artificial_data/3 from preferred cuisine 2 from other not full\"\n",
    "os.mkdir(data_folder)\n",
    "\n",
    "with open(f'{data_folder}/bought_products.p', 'wb') as fp:\n",
    "    pickle.dump(bought_products, fp, protocol=pickle.HIGHEST_PROTOCOL)\n",
    "    \n",
    "with open(f'{data_folder}/dominant_cusine_for_user.p', 'wb') as fp:\n",
    "    pickle.dump(dominant_cusine_for_user, fp, protocol=pickle.HIGHEST_PROTOCOL)\n",
    "\n",
    "with open(f'{data_folder}/recipes_of_cuisine.p', 'wb') as fp:\n",
    "    pickle.dump(recipes_of_cuisine, fp, protocol=pickle.HIGHEST_PROTOCOL)"
   ]
  },
  {
   "cell_type": "markdown",
   "metadata": {},
   "source": [
    "##3 from preferred cuisine 6 from others not full"
   ]
  },
  {
   "cell_type": "code",
   "execution_count": 36,
   "metadata": {},
   "outputs": [],
   "source": [
    "bought_products = {}\n",
    "\n",
    "for user in users:\n",
    "    recipes_from_chosen_cuisine = recipes_of_cuisine[dominant_cusine_for_user[user]]\n",
    "    recipes_from_other_cuisine = recipes_of_cuisine[(dominant_cusine_for_user[user] + 1) % n_cusines]\n",
    "    recipes_from_other_other_cuisine = recipes_of_cuisine[(dominant_cusine_for_user[user] + 2) % n_cusines]\n",
    "    recipes_from_other_other_other_cuisine = recipes_of_cuisine[(dominant_cusine_for_user[user] + 3) % n_cusines]\n",
    "    \n",
    "    \n",
    "    chosen_recipes_from_chosen_cuisine = np.random.choice(len(recipes_from_chosen_cuisine), 3)\n",
    "    chosen_recipes_from_other_cuisine = np.random.choice(len(recipes_from_other_cuisine), 2)\n",
    "    chosen_recipes_from_other_other_cuisine = np.random.choice(len(recipes_from_other_other_cuisine), 2)\n",
    "    chosen_recipes_from_other_other_other_cuisine = np.random.choice(len(recipes_from_other_other_other_cuisine), 2)\n",
    "\n",
    "    rec = []\n",
    "    \n",
    "    for num in chosen_recipes_from_chosen_cuisine:\n",
    "        recipe = recipes_from_chosen_cuisine[num]\n",
    "        subset_of_recipe = recipe[: int(0.7 * len(recipe))]\n",
    "        rec.append(subset_of_recipe)\n",
    "\n",
    "    for num in chosen_recipes_from_other_cuisine:\n",
    "        recipe = recipes_from_other_cuisine[num]\n",
    "        subset_of_recipe = recipe[: int(0.7 * len(recipe))]\n",
    "        rec.append(subset_of_recipe)\n",
    "\n",
    "    for num in chosen_recipes_from_other_other_cuisine:\n",
    "        recipe = recipes_from_other_other_cuisine[num]\n",
    "        subset_of_recipe = recipe[: int(0.5 * len(recipe))]\n",
    "        rec.append(subset_of_recipe)\n",
    "        \n",
    "    for num in chosen_recipes_from_other_other_cuisine:\n",
    "        recipe = recipes_from_other_other_cuisine[num]\n",
    "        subset_of_recipe = recipe[: int(0.5 * len(recipe))]\n",
    "        rec.append(subset_of_recipe)\n",
    "        \n",
    "        \n",
    "    for num in chosen_recipes_from_other_other_other_cuisine:\n",
    "        recipe = recipes_from_other_other_other_cuisine[num]\n",
    "        subset_of_recipe = recipe[: int(0.5 * len(recipe))]\n",
    "        rec.append(subset_of_recipe)\n",
    "        \n",
    "    needed_products = np.concatenate(rec)\n",
    "    \n",
    "    bought_products[user] = np.unique(needed_products)\n",
    "\n",
    "data_folder = \"../../data/artificial_data/3 from preferred cuisine 6 from others not full\"\n",
    "os.mkdir(data_folder)\n",
    "\n",
    "with open(f'{data_folder}/bought_products.p', 'wb') as fp:\n",
    "    pickle.dump(bought_products, fp, protocol=pickle.HIGHEST_PROTOCOL)\n",
    "    \n",
    "with open(f'{data_folder}/dominant_cusine_for_user.p', 'wb') as fp:\n",
    "    pickle.dump(dominant_cusine_for_user, fp, protocol=pickle.HIGHEST_PROTOCOL)\n",
    "\n",
    "with open(f'{data_folder}/recipes_of_cuisine.p', 'wb') as fp:\n",
    "    pickle.dump(recipes_of_cuisine, fp, protocol=pickle.HIGHEST_PROTOCOL)"
   ]
  },
  {
   "cell_type": "code",
   "execution_count": null,
   "metadata": {},
   "outputs": [],
   "source": []
  },
  {
   "cell_type": "code",
   "execution_count": null,
   "metadata": {},
   "outputs": [],
   "source": []
  },
  {
   "cell_type": "code",
   "execution_count": null,
   "metadata": {},
   "outputs": [],
   "source": []
  },
  {
   "cell_type": "code",
   "execution_count": null,
   "metadata": {},
   "outputs": [],
   "source": []
  }
 ],
 "metadata": {
  "kernelspec": {
   "display_name": "Python 3",
   "language": "python",
   "name": "python3"
  },
  "language_info": {
   "codemirror_mode": {
    "name": "ipython",
    "version": 3
   },
   "file_extension": ".py",
   "mimetype": "text/x-python",
   "name": "python",
   "nbconvert_exporter": "python",
   "pygments_lexer": "ipython3",
   "version": "3.7.3"
  }
 },
 "nbformat": 4,
 "nbformat_minor": 2
}
