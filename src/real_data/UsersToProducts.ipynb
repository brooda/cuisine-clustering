{
 "cells": [
  {
   "cell_type": "code",
   "execution_count": 18,
   "metadata": {},
   "outputs": [],
   "source": [
    "import numpy as np\n",
    "import pandas as pd\n",
    "import re"
   ]
  },
  {
   "cell_type": "markdown",
   "metadata": {},
   "source": [
    "### Load the data"
   ]
  },
  {
   "cell_type": "code",
   "execution_count": 19,
   "metadata": {},
   "outputs": [],
   "source": [
    "orders = pd.read_csv(\"../../data/instacart/orders.csv\")\n",
    "\n",
    "orders_products_1 = pd.read_csv(\"../../data/instacart/order_products__prior.csv\")\n",
    "orders_products_2 = pd.read_csv(\"../../data/instacart/order_products__train.csv\")\n",
    "orders_products = pd.concat([orders_products_1, orders_products_2],ignore_index=True)\n",
    "\n",
    "products = pd.read_csv(\"../../data/instacart/products_cropped.csv\")"
   ]
  },
  {
   "cell_type": "markdown",
   "metadata": {},
   "source": [
    "### Do we want only one purchase per customer?"
   ]
  },
  {
   "cell_type": "code",
   "execution_count": 20,
   "metadata": {},
   "outputs": [],
   "source": [
    "one_purchase = False"
   ]
  },
  {
   "cell_type": "markdown",
   "metadata": {},
   "source": [
    "### Create list of orders for each user and list of products for each order"
   ]
  },
  {
   "cell_type": "code",
   "execution_count": 21,
   "metadata": {},
   "outputs": [],
   "source": [
    "user_to_order = orders.groupby('user_id')['order_id'].apply(list)"
   ]
  },
  {
   "cell_type": "code",
   "execution_count": 22,
   "metadata": {},
   "outputs": [],
   "source": [
    "order_to_products = orders_products.groupby('order_id')['product_id'].apply(list)"
   ]
  },
  {
   "cell_type": "markdown",
   "metadata": {},
   "source": [
    "### We will find a list of products bought (ever in any purchase) by users"
   ]
  },
  {
   "cell_type": "code",
   "execution_count": 23,
   "metadata": {},
   "outputs": [],
   "source": [
    "user_to_products_id = {}\n",
    "\n",
    "for user_id in user_to_order.index:\n",
    "    orders = user_to_order[user_id]\n",
    "        \n",
    "    user_to_products_id[user_id] = []  \n",
    "        \n",
    "    for order in orders:\n",
    "        if order in order_to_products.keys():\n",
    "            user_to_products_id[user_id] += order_to_products[order]\n",
    "            \n",
    "        if one_purchase:\n",
    "            break"
   ]
  },
  {
   "cell_type": "code",
   "execution_count": 24,
   "metadata": {},
   "outputs": [],
   "source": [
    "user_to_products_text = {}\n",
    "\n",
    "for user_id in user_to_order.index:\n",
    "    prod_ids = user_to_products_id[user_id]\n",
    "    names = products[products[\"product_id\"].isin(prod_ids)].product_name.tolist()\n",
    "    names = \" \".join(str(v) for v in names)\n",
    "    names = re.sub(\"[^\\w]\", \" \",  names).split()\n",
    "    names = np.unique(names)\n",
    "    \n",
    "    user_to_products_text[user_id] = names"
   ]
  },
  {
   "cell_type": "code",
   "execution_count": 25,
   "metadata": {},
   "outputs": [],
   "source": [
    "import pickle\n",
    "\n",
    "if one_purchase:\n",
    "    with open('../../data/instacart/user_to_products_one_purchase_id.p', 'wb') as fp:\n",
    "        pickle.dump(user_to_products_id, fp, protocol=pickle.HIGHEST_PROTOCOL)\n",
    "\n",
    "    with open('../../data/instacart/user_to_products_one_purchase_text.p', 'wb') as fp:\n",
    "        pickle.dump(user_to_products_text, fp, protocol=pickle.HIGHEST_PROTOCOL)    \n",
    "else:\n",
    "    with open('../../data/instacart/user_to_products_one_id.p', 'wb') as fp:\n",
    "        pickle.dump(user_to_products_id, fp, protocol=pickle.HIGHEST_PROTOCOL)\n",
    "\n",
    "    with open('../../data/instacart/user_to_products_text.p', 'wb') as fp:\n",
    "        pickle.dump(user_to_products_text, fp, protocol=pickle.HIGHEST_PROTOCOL)"
   ]
  },
  {
   "cell_type": "code",
   "execution_count": null,
   "metadata": {},
   "outputs": [],
   "source": []
  }
 ],
 "metadata": {
  "kernelspec": {
   "display_name": "Python 3",
   "language": "python",
   "name": "python3"
  },
  "language_info": {
   "codemirror_mode": {
    "name": "ipython",
    "version": 3
   },
   "file_extension": ".py",
   "mimetype": "text/x-python",
   "name": "python",
   "nbconvert_exporter": "python",
   "pygments_lexer": "ipython3",
   "version": "3.7.3"
  }
 },
 "nbformat": 4,
 "nbformat_minor": 2
}
