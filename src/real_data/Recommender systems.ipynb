{
 "cells": [
  {
   "cell_type": "code",
   "execution_count": 48,
   "metadata": {},
   "outputs": [],
   "source": [
    "import pandas as pd\n",
    "import numpy as np\n",
    "import pickle\n",
    "import re\n",
    "import matplotlib.pyplot as plt"
   ]
  },
  {
   "cell_type": "markdown",
   "metadata": {},
   "source": [
    "# Do we want to classify user only by one recipe?"
   ]
  },
  {
   "cell_type": "code",
   "execution_count": 49,
   "metadata": {},
   "outputs": [],
   "source": [
    "one_purchase = False"
   ]
  },
  {
   "cell_type": "code",
   "execution_count": 50,
   "metadata": {},
   "outputs": [],
   "source": [
    "from py_stringmatching import GeneralizedJaccard\n",
    "gj = GeneralizedJaccard(threshold=0.8)"
   ]
  },
  {
   "cell_type": "code",
   "execution_count": 51,
   "metadata": {},
   "outputs": [],
   "source": [
    "def JaccardSim(customer, recipe):\n",
    "    try:\n",
    "        return len(set(customer) & set(recipe)) / len(recipe)\n",
    "    except: \n",
    "        return 0"
   ]
  },
  {
   "cell_type": "code",
   "execution_count": 52,
   "metadata": {},
   "outputs": [],
   "source": [
    "# instacart\n",
    "recipes = pd.read_csv(\"../../data/instacart/recipes_cropped.csv\")\n",
    "\n",
    "#kaggle\n",
    "#recipes = pd.read_csv(\"../../data/groceries/recipes_cropped.csv\")\n",
    "\n",
    "del recipes[\"Unnamed: 0\"]"
   ]
  },
  {
   "cell_type": "code",
   "execution_count": 53,
   "metadata": {
    "scrolled": true
   },
   "outputs": [
    {
     "data": {
      "text/plain": [
       "1757"
      ]
     },
     "execution_count": 53,
     "metadata": {},
     "output_type": "execute_result"
    }
   ],
   "source": [
    "drop_indices = np.random.choice(recipes.index, 38000, replace=False)\n",
    "recipes = recipes.drop(drop_indices)\n",
    "\n",
    "n_recipes = len(recipes)\n",
    "n_recipes"
   ]
  },
  {
   "cell_type": "code",
   "execution_count": 54,
   "metadata": {},
   "outputs": [
    {
     "name": "stdout",
     "output_type": "stream",
     "text": [
      "cuisine\n",
      "brazilian        32\n",
      "british          50\n",
      "cajun_creole     77\n",
      "chinese         108\n",
      "filipino         42\n",
      "french          121\n",
      "greek            45\n",
      "indian          126\n",
      "irish            32\n",
      "italian         314\n",
      "jamaican         18\n",
      "japanese         55\n",
      "korean           38\n",
      "mexican         286\n",
      "moroccan         54\n",
      "russian          20\n",
      "southern_us     192\n",
      "spanish          49\n",
      "thai             58\n",
      "vietnamese       40\n",
      "dtype: int64\n"
     ]
    }
   ],
   "source": [
    "recipes = recipes.sort_values(by=\"cuisine\").reset_index(drop=True)\n",
    "cuisine_counts = recipes.groupby(\"cuisine\").size()\n",
    "n_cuisines = len(cuisine_counts)\n",
    "print(cuisine_counts)"
   ]
  },
  {
   "cell_type": "code",
   "execution_count": 55,
   "metadata": {},
   "outputs": [],
   "source": [
    "# instacart\n",
    "if one_purchase:\n",
    "    with open('../../data/instacart/user_to_products_one_purchase_text.p', 'rb') as fp:\n",
    "        user_to_products = pickle.load(fp)\n",
    "else:\n",
    "    with open('../../data/instacart/user_to_products_text.p', 'rb') as fp:\n",
    "        user_to_products = pickle.load(fp)\n",
    "\n",
    "\n",
    "# kaggle\n",
    "#with open('../../data/groceries/user_to_products_one_purchase_text.p', 'rb') as fp:\n",
    "#    user_to_products = pickle.load(fp)"
   ]
  },
  {
   "cell_type": "code",
   "execution_count": 58,
   "metadata": {},
   "outputs": [],
   "source": [
    "n_users = 5000\n",
    "utility_matrix = np.zeros((n_users, n_recipes))"
   ]
  },
  {
   "cell_type": "code",
   "execution_count": 59,
   "metadata": {
    "scrolled": true
   },
   "outputs": [],
   "source": [
    "for user in range(n_users):\n",
    "    user_products = list(user_to_products[user + 1])\n",
    "    \n",
    "    # Needed to work with GeneralizedJaccard\n",
    "    #user_products = [str(x) for x in user_products]\n",
    "    \n",
    "    for recipe_number in range(n_recipes):\n",
    "        recipe_ingredients = recipes.iloc[recipe_number]['ingredients']\n",
    "        recipe_ingredients = recipe_ingredients.split()\n",
    "        \n",
    "        # Needed to work with GeneralizedJaccard\n",
    "        #recipe_ingredients = [str(x) for x in recipe_ingredients]\n",
    "        \n",
    "        #utility_matrix[user, recipe_number] = gj.get_sim_score(user_products, recipe_ingredients) \n",
    "        utility_matrix[user, recipe_number] = JaccardSim(user_products, recipe_ingredients)"
   ]
  },
  {
   "cell_type": "code",
   "execution_count": 60,
   "metadata": {},
   "outputs": [],
   "source": [
    "u, s, vh = np.linalg.svd(utility_matrix, full_matrices=False)"
   ]
  },
  {
   "cell_type": "code",
   "execution_count": 61,
   "metadata": {},
   "outputs": [],
   "source": [
    "# 50: number selected experimentally for situation where baset is breated from one purchase\n",
    "k = 50\n",
    "\n",
    "s = s[:k]\n",
    "u = u[:, :k]\n",
    "vh = vh[: k]"
   ]
  },
  {
   "cell_type": "code",
   "execution_count": 62,
   "metadata": {},
   "outputs": [],
   "source": [
    "def normalize(v):\n",
    "    norm=np.linalg.norm(v, ord=1)\n",
    "    if norm==0:\n",
    "        norm=np.finfo(v.dtype).eps\n",
    "    return v/norm"
   ]
  },
  {
   "cell_type": "code",
   "execution_count": 63,
   "metadata": {},
   "outputs": [],
   "source": [
    "counter = 0\n",
    "cuisine_to_concepts = {}\n",
    "\n",
    "for cuisine in range(n_cuisines):\n",
    "    recipes_of_cuisine = recipes[counter: counter + cuisine_counts[cuisine]]\n",
    "    vh_fragment = vh[:, counter: counter+ cuisine_counts[cuisine]]\n",
    "\n",
    "    counter += cuisine_counts[cuisine]\n",
    "\n",
    "    cuisine_to_concepts[cuisine] = normalize(np.sum(vh_fragment, axis=1))    "
   ]
  },
  {
   "cell_type": "code",
   "execution_count": 64,
   "metadata": {
    "scrolled": true
   },
   "outputs": [],
   "source": [
    "for user in range(n_users):\n",
    "    user_concepts = u[user]\n",
    "    user_concepts = normalize(u[user])\n",
    "    \n",
    "    distance_to_cusines = np.zeros(n_cuisines)\n",
    "    \n",
    "    for cuisine in range(n_cuisines):\n",
    "        cuisine_concepts = cuisine_to_concepts[cuisine]\n",
    "        \n",
    "        distance_to_cusines[cuisine] = np.sum(np.power(np.abs(user_concepts - cuisine_concepts), 1))\n",
    "    \n",
    "    \n",
    "    top_cuisines = np.argsort(distance_to_cusines)[:3]\n",
    "    \n",
    "    first_dist = distance_to_cusines[top_cuisines[0]]\n",
    "    second_dist = distance_to_cusines[top_cuisines[1]]\n",
    "    third_dist = distance_to_cusines[top_cuisines[2]]\n",
    "    \n",
    "    \n",
    "    # INSTACART\n",
    "    \n",
    "    # ONE PURCHASE\n",
    "    # print italian products\n",
    "    #if top_cuisines[0] == 9 and first_dist < 0.9 * second_dist:\n",
    "    #    print(user_to_products[user+1])\n",
    "        \n",
    "    # print mexican products\n",
    "    #if top_cuisines[0] == 13 and first_dist < 0.85 * second_dist:\n",
    "    #    print(user_to_products[user+1])\n",
    "    \n",
    "    # print indian products\n",
    "    #if top_cuisines[0] == 7 and first_dist < 0.8 * second_dist:\n",
    "    #    print(user_to_products[user+1])\n",
    "    \n",
    "    \n",
    "    \n",
    "    # MANY PURCHASES\n",
    "    # print italian products\n",
    "    #if top_cuisines[0] == 9 and first_dist < 0.87 * second_dist and len(user_to_products[user+1])<40:\n",
    "    #    print( user_to_products[user+1])\n",
    "       \n",
    "    # print mexican products\n",
    "    #if top_cuisines[0] == 13 and first_dist < 0.9 * second_dist and len(user_to_products[user+1])<40:\n",
    "    #    print(user_to_products[user+1])\n",
    "    \n",
    "    # print indian products\n",
    "    #if top_cuisines[0] == 7 and first_dist < 0.9 * second_dist and len(user_to_products[user+1])<40:\n",
    "    #    print(user_to_products[user+1])\n",
    "    \n",
    "    \n",
    "    \n",
    "    # KAGGLE\n",
    "    \n",
    "    # print italian products\n",
    "    #if top_cuisines[0] == 9 and first_dist < 0.9 * second_dist:\n",
    "    #    print(user_to_products[user+1])\n",
    "        \n",
    "    # print mexican products\n",
    "    #if top_cuisines[0] == 13 and first_dist < 0.9 * second_dist:\n",
    "    #    print(user_to_products[user+1])\n",
    "    \n",
    "    # print indian products\n",
    "    #if top_cuisines[0] == 7 and first_dist < 0.9 * second_dist:\n",
    "    #    print(user_to_products[user+1])\n",
    "    "
   ]
  },
  {
   "cell_type": "code",
   "execution_count": null,
   "metadata": {},
   "outputs": [],
   "source": []
  },
  {
   "cell_type": "code",
   "execution_count": null,
   "metadata": {},
   "outputs": [],
   "source": []
  },
  {
   "cell_type": "code",
   "execution_count": null,
   "metadata": {},
   "outputs": [],
   "source": []
  },
  {
   "cell_type": "code",
   "execution_count": null,
   "metadata": {},
   "outputs": [],
   "source": []
  }
 ],
 "metadata": {
  "kernelspec": {
   "display_name": "Python 3",
   "language": "python",
   "name": "python3"
  },
  "language_info": {
   "codemirror_mode": {
    "name": "ipython",
    "version": 3
   },
   "file_extension": ".py",
   "mimetype": "text/x-python",
   "name": "python",
   "nbconvert_exporter": "python",
   "pygments_lexer": "ipython3",
   "version": "3.6.8"
  }
 },
 "nbformat": 4,
 "nbformat_minor": 2
}
